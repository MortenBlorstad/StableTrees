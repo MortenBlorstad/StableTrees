{
 "cells": [
  {
   "attachments": {},
   "cell_type": "markdown",
   "metadata": {},
   "source": [
    "# French Motor Claims Datasets\n",
    "\n",
    "This analysis uses the same features as in the book \"Computational Actuarial Science with R\" by Arthur Charpentier.\n",
    "\n",
    "Charpentier Arthur and Katrien Antonio. 2015. Computational Actuarial Science with R. Boca Raton Florida: CRC Press."
   ]
  },
  {
   "cell_type": "code",
   "execution_count": 1,
   "metadata": {},
   "outputs": [],
   "source": [
    "import pandas as pd\n",
    "import tarfile\n",
    "import os\n",
    "import matplotlib.pyplot as plt\n",
    "import numpy as np\n",
    "from sklearn.model_selection import train_test_split\n",
    "from sklearn.metrics import mean_poisson_deviance\n",
    "from sklearn.preprocessing import OrdinalEncoder,OneHotEncoder\n",
    "from sklearn.compose import ColumnTransformer\n",
    "from sklearn.pipeline import Pipeline\n",
    "from stabletrees import BaseLineTree,AbuTreeI,NaiveUpdate,TreeReevaluation,StabilityRegularization, BABUTree\n",
    "from sklearn.tree import DecisionTreeRegressor\n",
    "SEED = 0\n",
    "plt.rcParams[\"figure.figsize\"] = (20,12)"
   ]
  },
  {
   "cell_type": "code",
   "execution_count": 2,
   "metadata": {},
   "outputs": [
    {
     "name": "stdout",
     "output_type": "stream",
     "text": [
      "norauto\n"
     ]
    }
   ],
   "source": [
    "path = \"..\\data\\poisson\"\n",
    "for file in os.listdir(path):\n",
    "    if file.endswith('.csv'):\n",
    "        name = file.split(\".\")[0]\n",
    "        print(name)\n",
    "        if name == \"norauto\":\n",
    "            tar = tarfile.open(path+\"//\"+name+\".tar.gz\", \"w:gz\")\n",
    "            tar.add(path+\"//\"+file)\n",
    "            tar.close()"
   ]
  },
  {
   "cell_type": "code",
   "execution_count": 3,
   "metadata": {},
   "outputs": [],
   "source": [
    "with tarfile.open(\"..\\data\\poisson\\\\freMTPLfreq.tar.gz\", \"r:*\") as tar:\n",
    "    csv_path = tar.getnames()[0]\n",
    "    df = pd.read_csv(tar.extractfile(csv_path), header=0)"
   ]
  },
  {
   "cell_type": "code",
   "execution_count": 4,
   "metadata": {},
   "outputs": [
    {
     "data": {
      "text/html": [
       "<div>\n",
       "<style scoped>\n",
       "    .dataframe tbody tr th:only-of-type {\n",
       "        vertical-align: middle;\n",
       "    }\n",
       "\n",
       "    .dataframe tbody tr th {\n",
       "        vertical-align: top;\n",
       "    }\n",
       "\n",
       "    .dataframe thead th {\n",
       "        text-align: right;\n",
       "    }\n",
       "</style>\n",
       "<table border=\"1\" class=\"dataframe\">\n",
       "  <thead>\n",
       "    <tr style=\"text-align: right;\">\n",
       "      <th></th>\n",
       "      <th>PolicyID</th>\n",
       "      <th>ClaimNb</th>\n",
       "      <th>Exposure</th>\n",
       "      <th>Power</th>\n",
       "      <th>CarAge</th>\n",
       "      <th>DriverAge</th>\n",
       "      <th>Brand</th>\n",
       "      <th>Gas</th>\n",
       "      <th>Region</th>\n",
       "      <th>Density</th>\n",
       "    </tr>\n",
       "  </thead>\n",
       "  <tbody>\n",
       "    <tr>\n",
       "      <th>0</th>\n",
       "      <td>1</td>\n",
       "      <td>0</td>\n",
       "      <td>0.09</td>\n",
       "      <td>g</td>\n",
       "      <td>0</td>\n",
       "      <td>46</td>\n",
       "      <td>Japanese (except Nissan) or Korean</td>\n",
       "      <td>Diesel</td>\n",
       "      <td>Aquitaine</td>\n",
       "      <td>76</td>\n",
       "    </tr>\n",
       "    <tr>\n",
       "      <th>1</th>\n",
       "      <td>2</td>\n",
       "      <td>0</td>\n",
       "      <td>0.84</td>\n",
       "      <td>g</td>\n",
       "      <td>0</td>\n",
       "      <td>46</td>\n",
       "      <td>Japanese (except Nissan) or Korean</td>\n",
       "      <td>Diesel</td>\n",
       "      <td>Aquitaine</td>\n",
       "      <td>76</td>\n",
       "    </tr>\n",
       "    <tr>\n",
       "      <th>2</th>\n",
       "      <td>3</td>\n",
       "      <td>0</td>\n",
       "      <td>0.52</td>\n",
       "      <td>f</td>\n",
       "      <td>2</td>\n",
       "      <td>38</td>\n",
       "      <td>Japanese (except Nissan) or Korean</td>\n",
       "      <td>Regular</td>\n",
       "      <td>Nord-Pas-de-Calais</td>\n",
       "      <td>3003</td>\n",
       "    </tr>\n",
       "    <tr>\n",
       "      <th>3</th>\n",
       "      <td>4</td>\n",
       "      <td>0</td>\n",
       "      <td>0.45</td>\n",
       "      <td>f</td>\n",
       "      <td>2</td>\n",
       "      <td>38</td>\n",
       "      <td>Japanese (except Nissan) or Korean</td>\n",
       "      <td>Regular</td>\n",
       "      <td>Nord-Pas-de-Calais</td>\n",
       "      <td>3003</td>\n",
       "    </tr>\n",
       "    <tr>\n",
       "      <th>4</th>\n",
       "      <td>5</td>\n",
       "      <td>0</td>\n",
       "      <td>0.15</td>\n",
       "      <td>g</td>\n",
       "      <td>0</td>\n",
       "      <td>41</td>\n",
       "      <td>Japanese (except Nissan) or Korean</td>\n",
       "      <td>Diesel</td>\n",
       "      <td>Pays-de-la-Loire</td>\n",
       "      <td>60</td>\n",
       "    </tr>\n",
       "  </tbody>\n",
       "</table>\n",
       "</div>"
      ],
      "text/plain": [
       "   PolicyID  ClaimNb  Exposure Power  CarAge  DriverAge  \\\n",
       "0         1        0      0.09     g       0         46   \n",
       "1         2        0      0.84     g       0         46   \n",
       "2         3        0      0.52     f       2         38   \n",
       "3         4        0      0.45     f       2         38   \n",
       "4         5        0      0.15     g       0         41   \n",
       "\n",
       "                                Brand      Gas              Region  Density  \n",
       "0  Japanese (except Nissan) or Korean   Diesel           Aquitaine       76  \n",
       "1  Japanese (except Nissan) or Korean   Diesel           Aquitaine       76  \n",
       "2  Japanese (except Nissan) or Korean  Regular  Nord-Pas-de-Calais     3003  \n",
       "3  Japanese (except Nissan) or Korean  Regular  Nord-Pas-de-Calais     3003  \n",
       "4  Japanese (except Nissan) or Korean   Diesel    Pays-de-la-Loire       60  "
      ]
     },
     "execution_count": 4,
     "metadata": {},
     "output_type": "execute_result"
    }
   ],
   "source": [
    "df.head()"
   ]
  },
  {
   "cell_type": "code",
   "execution_count": 5,
   "metadata": {},
   "outputs": [],
   "source": [
    "df[\"y\"] =df.ClaimNb * df.Exposure #annulized claim frequency (see p.480 in computational actuarial science with R)\n",
    "\n",
    "ClaimNb = df.ClaimNb.to_numpy()\n",
    "Exposure = df.Exposure.to_numpy()\n",
    "df.drop([\"PolicyID\",\"Exposure\",\"ClaimNb\"],axis=1,inplace=True)\n"
   ]
  },
  {
   "attachments": {},
   "cell_type": "markdown",
   "metadata": {},
   "source": [
    "## Density\n",
    "The density of inhabitants (number of inhabitants per km2) in the city the driver of the car lives in."
   ]
  },
  {
   "cell_type": "code",
   "execution_count": 6,
   "metadata": {},
   "outputs": [],
   "source": [
    "df.Density = pd.cut(df.Density, include_lowest=True, bins=[0,40,200,500,4500,np.inf])"
   ]
  },
  {
   "attachments": {},
   "cell_type": "markdown",
   "metadata": {},
   "source": [
    "## DrivAge\n",
    "The driver age, in years (in France, people can drive a car at 18)."
   ]
  },
  {
   "cell_type": "code",
   "execution_count": 7,
   "metadata": {},
   "outputs": [],
   "source": [
    "df.DriverAge  = pd.cut(df.DriverAge , bins=[17,22,26,42,74,np.inf])"
   ]
  },
  {
   "attachments": {},
   "cell_type": "markdown",
   "metadata": {},
   "source": [
    "## VehAge \n",
    "The vehicle age, in years."
   ]
  },
  {
   "cell_type": "code",
   "execution_count": 8,
   "metadata": {},
   "outputs": [],
   "source": [
    "df.CarAge  = pd.cut(df.CarAge, include_lowest=True , bins=[0,15,np.inf])"
   ]
  },
  {
   "attachments": {},
   "cell_type": "markdown",
   "metadata": {},
   "source": [
    "## Brand\n"
   ]
  },
  {
   "cell_type": "code",
   "execution_count": 9,
   "metadata": {},
   "outputs": [],
   "source": [
    "df[\"brandF\"] = np.where(df.Brand==\"Japanese (except Nissan) or Korean\",\"F\",\"other\")"
   ]
  },
  {
   "attachments": {},
   "cell_type": "markdown",
   "metadata": {},
   "source": [
    "## Power"
   ]
  },
  {
   "cell_type": "code",
   "execution_count": 10,
   "metadata": {},
   "outputs": [],
   "source": [
    "df[\"Power\"] = [\"DEF\" if p in [\"d\",\"e\",\"f\"] else \"other\" if p in [\"d\",\"e\",\"f\"] else \"GH\" for p in df.Power ]"
   ]
  },
  {
   "cell_type": "code",
   "execution_count": 11,
   "metadata": {},
   "outputs": [],
   "source": [
    "df.insert(len(df.columns)-1, 'y', df.pop('y'))"
   ]
  },
  {
   "cell_type": "code",
   "execution_count": 12,
   "metadata": {},
   "outputs": [],
   "source": [
    "tree_preprocessor = ColumnTransformer(\n",
    "    [\n",
    "        (\n",
    "            \"categorical\",\n",
    "            OrdinalEncoder(),\n",
    "            [\"CarAge\", \"DriverAge\", \"Gas\", \"Density\"],\n",
    "        ),\n",
    "        (\n",
    "            \"onehot_categorical\",\n",
    "            OneHotEncoder(),\n",
    "            [\"Power\", \"brandF\"],\n",
    "        ),\n",
    "        (\"numeric\", \"passthrough\", [\"y\"]),\n",
    "    ],\n",
    "    remainder=\"drop\",\n",
    ")"
   ]
  },
  {
   "cell_type": "code",
   "execution_count": 13,
   "metadata": {},
   "outputs": [],
   "source": [
    "df_prep = tree_preprocessor.fit_transform(df)\n",
    "X = df_prep[:,:-1]\n",
    "y = df_prep[:,-1]\n",
    "y = y"
   ]
  },
  {
   "cell_type": "code",
   "execution_count": 14,
   "metadata": {},
   "outputs": [
    {
     "data": {
      "text/plain": [
       "0.2745897654125622"
      ]
     },
     "execution_count": 14,
     "metadata": {},
     "output_type": "execute_result"
    }
   ],
   "source": [
    "t = BaseLineTree(criterion=\"poisson\",adaptive_complexity=True).fit(X,y)\n",
    "mask = ClaimNb!=0\n",
    "mean_poisson_deviance(ClaimNb,t.predict(X)*Exposure)\n"
   ]
  },
  {
   "cell_type": "code",
   "execution_count": 15,
   "metadata": {},
   "outputs": [
    {
     "data": {
      "text/plain": [
       "0.27981742095821643"
      ]
     },
     "execution_count": 15,
     "metadata": {},
     "output_type": "execute_result"
    }
   ],
   "source": [
    "from sklearn.linear_model import PoissonRegressor\n",
    "lm = PoissonRegressor(alpha=0.001).fit(X,y)\n",
    "mask = ClaimNb!=0\n",
    "mean_poisson_deviance(ClaimNb,lm.predict(X)*Exposure)\n",
    "\n"
   ]
  },
  {
   "cell_type": "code",
   "execution_count": 16,
   "metadata": {},
   "outputs": [],
   "source": [
    "from sklearn.model_selection import train_test_split,GridSearchCV,RepeatedKFold\n",
    "EPSILON = 1.1\n",
    "\n",
    "def S1(pred1, pred2):\n",
    "    return np.std(np.log((pred2+EPSILON)/(pred1+EPSILON)))\n",
    "\n",
    "def S2(pred1, pred2):\n",
    "    return np.mean((pred1- pred2)**2)"
   ]
  },
  {
   "cell_type": "code",
   "execution_count": 17,
   "metadata": {},
   "outputs": [
    {
     "name": "stdout",
     "output_type": "stream",
     "text": [
      "================================================================================\n",
      "baseline\n",
      "orig - poisson: 0.275 (1.00), stability: 0.002 (1.00), standard stability: 0.000 (1.00)\n",
      "train - poisson: 0.275 (1.00), stability: 0.002 (1.00), standard stability: 0.000 (1.00)\n",
      "test - poisson: 0.275 (1.00), stability: 0.002 (1.00), standard stability: 0.000 (1.00)\n",
      "================================================================================\n",
      "================================================================================\n",
      "sklearn\n",
      "orig - poisson: 0.280 (1.02), stability: 0.001 (0.65), standard stability: 0.000 (0.39)\n",
      "train - poisson: 0.280 (1.02), stability: 0.001 (0.65), standard stability: 0.000 (0.38)\n",
      "test - poisson: 0.280 (1.02), stability: 0.001 (0.65), standard stability: 0.000 (0.37)\n",
      "================================================================================\n",
      "================================================================================\n",
      "poisReg\n",
      "orig - poisson: 0.280 (1.02), stability: 0.000 (0.18), standard stability: 0.000 (0.03)\n",
      "train - poisson: 0.280 (1.02), stability: 0.000 (0.18), standard stability: 0.000 (0.03)\n",
      "test - poisson: 0.280 (1.02), stability: 0.000 (0.18), standard stability: 0.000 (0.03)\n",
      "================================================================================\n",
      "================================================================================\n",
      "NU\n",
      "orig - poisson: 0.277 (1.01), stability: 0.002 (0.87), standard stability: 0.000 (63.03)\n",
      "train - poisson: 0.277 (1.01), stability: 0.002 (0.86), standard stability: 0.000 (61.01)\n",
      "test - poisson: 0.277 (1.01), stability: 0.002 (0.85), standard stability: 0.000 (27.73)\n",
      "================================================================================\n",
      "================================================================================\n",
      "TR\n",
      "orig - poisson: 0.277 (1.01), stability: 0.002 (0.88), standard stability: 0.000 (63.05)\n",
      "train - poisson: 0.277 (1.01), stability: 0.002 (0.87), standard stability: 0.000 (61.02)\n",
      "test - poisson: 0.277 (1.01), stability: 0.002 (0.86), standard stability: 0.000 (27.74)\n",
      "================================================================================\n",
      "================================================================================\n",
      "SR\n",
      "orig - poisson: 0.274 (1.00), stability: 0.000 (0.01), standard stability: 0.000 (0.01)\n",
      "train - poisson: 0.275 (1.00), stability: 0.000 (0.01), standard stability: 0.000 (0.01)\n",
      "test - poisson: 0.275 (1.00), stability: 0.000 (0.01), standard stability: 0.000 (0.01)\n",
      "================================================================================\n",
      "================================================================================\n",
      "ABU\n",
      "orig - poisson: 0.274 (1.00), stability: 0.000 (0.05), standard stability: 0.000 (0.36)\n",
      "train - poisson: 0.275 (1.00), stability: 0.000 (0.05), standard stability: 0.000 (0.34)\n",
      "test - poisson: 0.275 (1.00), stability: 0.000 (0.05), standard stability: 0.000 (0.29)\n",
      "================================================================================\n",
      "================================================================================\n",
      "BABU\n",
      "orig - poisson: 0.274 (1.00), stability: 0.000 (0.10), standard stability: 0.000 (0.07)\n",
      "train - poisson: 0.275 (1.00), stability: 0.000 (0.10), standard stability: 0.000 (0.07)\n",
      "test - poisson: 0.275 (1.00), stability: 0.000 (0.11), standard stability: 0.000 (0.07)\n",
      "================================================================================\n",
      "\n"
     ]
    }
   ],
   "source": [
    "models = {  \n",
    "            \"baseline\": BaseLineTree(),\n",
    "            \"sklearn\": DecisionTreeRegressor(),\n",
    "            \"poisReg\": PoissonRegressor(alpha=0.001),\n",
    "            \"NU\": NaiveUpdate(),\n",
    "            \"TR\":TreeReevaluation(delta=0.1),\n",
    "            \"SR\":StabilityRegularization(),\n",
    "            \"ABU\":AbuTreeI(),\n",
    "            \"BABU\": BABUTree()\n",
    "            }\n",
    "stability_all = {name:[] for name in models.keys()}\n",
    "standard_stability_all= {name:[] for name in models.keys()}\n",
    "mse_all= {name:[] for name in models.keys()}\n",
    "\n",
    "stability = {name:[] for name in models.keys()}\n",
    "standard_stability = {name:[] for name in models.keys()}\n",
    "mse = {name:[] for name in models.keys()}\n",
    "train_stability = {name:[] for name in models.keys()}\n",
    "train_standard_stability = {name:[] for name in models.keys()}\n",
    "train_mse = {name:[] for name in models.keys()}\n",
    "orig_stability = {name:[] for name in models.keys()}\n",
    "orig_standard_stability = {name:[] for name in models.keys()}\n",
    "orig_mse = {name:[] for name in models.keys()}\n",
    "parameters = {'max_depth':[None, 5, 10],\"min_samples_leaf\": [5]} # , \n",
    "#clf = GridSearchCV(DecisionTreeRegressor(random_state=0, criterion=\"poisson\"), parameters)\n",
    "kf = RepeatedKFold(n_splits= 5,n_repeats=10, random_state=SEED)\n",
    "for train_index, test_index in kf.split(X):\n",
    "    X_12, y_12 = X[train_index],y[train_index]\n",
    "    ClaimNb_12 = ClaimNb[train_index]\n",
    "    Exposure_12  = Exposure[train_index]\n",
    "    X_test,y_test = X[test_index],y[test_index]\n",
    "    ClaimNb_test = ClaimNb[test_index]\n",
    "    Exposure_test  = Exposure[test_index]\n",
    "    X1,X2,y1,y2,ClaimNb_1,ClaimNb_2,Exposure_1,Exposure_2 =  train_test_split(X_12, y_12,ClaimNb_12,Exposure_12, test_size=0.5, random_state=SEED)\n",
    "    # clf.fit(X1,y1)\n",
    "    # params = clf.best_params_\n",
    "    # initial model \n",
    "    criterion = \"poisson\"\n",
    "    models = {  \n",
    "            \"baseline\": BaseLineTree(criterion = criterion, max_depth=5, min_samples_leaf=5),\n",
    "            \"sklearn\": DecisionTreeRegressor(criterion = criterion, max_depth=5, min_samples_leaf=5),\n",
    "            \"poisReg\": PoissonRegressor(alpha=0.001),\n",
    "            \"NU\": NaiveUpdate(criterion = criterion, adaptive_complexity=True),\n",
    "            \"TR\":TreeReevaluation(criterion = criterion, adaptive_complexity=True, delta=0.1),\n",
    "            \"SR\":StabilityRegularization(criterion = criterion, adaptive_complexity=True,lmbda=0.75),\n",
    "            \"ABU\":AbuTreeI(criterion = criterion, adaptive_complexity=True),\n",
    "            \"BABU\": BABUTree(criterion = criterion, adaptive_complexity=True),\n",
    "\n",
    "            }\n",
    "    for name, model in models.items():\n",
    "        model.fit(X1,y1)\n",
    "        \n",
    "        pred1 = model.predict(X_test) \n",
    "        pred1_train = model.predict(X_12)\n",
    "        pred1_orig= model.predict(X1)\n",
    "        #print(\"before\")\n",
    "        if name == \"poisReg\":\n",
    "            model.fit(X_12,y_12)\n",
    "        elif name == \"sklearn\":\n",
    "            model.fit(X_12,y_12)\n",
    "        else:\n",
    "            model.update(X_12,y_12)\n",
    "        #print(\"after\")\n",
    "        pred2 = model.predict(X_test) \n",
    "        pred2_orig= model.predict(X1) \n",
    "        pred2_train =  model.predict(X_12)\n",
    "        orig_mse[name].append(mean_poisson_deviance(ClaimNb_1+0.00001,pred2_orig*Exposure_1+0.00001))\n",
    "        orig_stability[name].append(S1(pred1_orig*Exposure_1,pred2_orig*Exposure_1))\n",
    "        orig_standard_stability[name].append(S2(pred1_orig*Exposure_1,pred2_orig*Exposure_1))\n",
    "\n",
    "        train_mse[name].append(mean_poisson_deviance(ClaimNb_12+0.00001,pred2_train*Exposure_12+0.00001))\n",
    "        train_stability[name].append(S1(pred1_train*Exposure_12,pred2_train*Exposure_12))\n",
    "        train_standard_stability[name].append(S2(pred1_train*Exposure_12,pred2_train*Exposure_12))\n",
    "        mse[name].append(mean_poisson_deviance(ClaimNb_test+0.00001,pred2*Exposure_test+0.00001))\n",
    "        stability[name].append(S1(pred1*Exposure_test,pred2*Exposure_test))\n",
    "        standard_stability[name].append(S2(pred1*Exposure_test,pred2*Exposure_test))\n",
    "    \n",
    "for name in models.keys():\n",
    "    print(\"=\"*80)\n",
    "    print(f\"{name}\")\n",
    "    orig_mse_scale = np.mean(orig_mse[\"baseline\"]); orig_S1_scale = np.mean(orig_stability[\"baseline\"]); orig_S2_scale = np.mean(orig_standard_stability[\"baseline\"]);\n",
    "    train_mse_scale = np.mean(train_mse[\"baseline\"]); train_S1_scale = np.mean(train_stability[\"baseline\"]); train_S2_scale = np.mean(train_standard_stability[\"baseline\"]);\n",
    "    mse_scale = np.mean(mse[\"baseline\"]); S1_scale = np.mean(stability[\"baseline\"]); S2_scale = np.mean(standard_stability[\"baseline\"]);\n",
    "    \n",
    "    print(f\"orig - poisson: {np.mean(orig_mse[name]):.3f} ({np.mean(orig_mse[name])/orig_mse_scale:.2f}), stability: {np.mean(orig_stability[name]):.3f} ({np.mean(orig_stability[name])/orig_S1_scale:.2f}), standard stability: {np.mean(orig_standard_stability[name]):.3f} ({np.mean(orig_standard_stability[name])/orig_S2_scale:.2f})\")\n",
    "    print(f\"train - poisson: {np.mean(train_mse[name]):.3f} ({np.mean(train_mse[name])/train_mse_scale:.2f}), stability: {np.mean(train_stability[name]):.3f} ({np.mean(train_stability[name])/train_S1_scale:.2f}), standard stability: {np.mean(train_standard_stability[name]):.3f} ({np.mean(train_standard_stability[name])/train_S2_scale:.2f})\")\n",
    "    print(f\"test - poisson: {np.mean(mse[name]):.3f} ({np.mean(mse[name])/mse_scale:.2f}), stability: {np.mean(stability[name]):.3f} ({np.mean(stability[name])/S1_scale:.2f}), standard stability: {np.mean(standard_stability[name]):.3f} ({np.mean(standard_stability[name])/S2_scale:.2f})\")\n",
    "    print(\"=\"*80)\n",
    "    mse_all[name] += [score/mse_scale for score in mse[name]]\n",
    "    stability_all[name] += [score/S1_scale for score in stability[name]]\n",
    "    standard_stability_all[name] += [score/S2_scale for score in standard_stability[name]]\n",
    "print()"
   ]
  },
  {
   "cell_type": "code",
   "execution_count": 18,
   "metadata": {},
   "outputs": [],
   "source": [
    "with tarfile.open(\"..\\data\\poisson\\\\norauto.tar.gz\", \"r:*\") as tar:\n",
    "    csv_path = tar.getnames()[0]\n",
    "    df = pd.read_csv(tar.extractfile(csv_path), header=0)"
   ]
  },
  {
   "cell_type": "code",
   "execution_count": 19,
   "metadata": {},
   "outputs": [
    {
     "data": {
      "text/html": [
       "<div>\n",
       "<style scoped>\n",
       "    .dataframe tbody tr th:only-of-type {\n",
       "        vertical-align: middle;\n",
       "    }\n",
       "\n",
       "    .dataframe tbody tr th {\n",
       "        vertical-align: top;\n",
       "    }\n",
       "\n",
       "    .dataframe thead th {\n",
       "        text-align: right;\n",
       "    }\n",
       "</style>\n",
       "<table border=\"1\" class=\"dataframe\">\n",
       "  <thead>\n",
       "    <tr style=\"text-align: right;\">\n",
       "      <th></th>\n",
       "      <th>Male</th>\n",
       "      <th>Young</th>\n",
       "      <th>DistLimit</th>\n",
       "      <th>GeoRegion</th>\n",
       "      <th>Expo</th>\n",
       "      <th>ClaimAmount</th>\n",
       "      <th>NbClaim</th>\n",
       "    </tr>\n",
       "  </thead>\n",
       "  <tbody>\n",
       "    <tr>\n",
       "      <th>0</th>\n",
       "      <td>0</td>\n",
       "      <td>0</td>\n",
       "      <td>12000 km</td>\n",
       "      <td>Low+</td>\n",
       "      <td>0.789</td>\n",
       "      <td>0.0</td>\n",
       "      <td>0</td>\n",
       "    </tr>\n",
       "    <tr>\n",
       "      <th>1</th>\n",
       "      <td>0</td>\n",
       "      <td>1</td>\n",
       "      <td>12000 km</td>\n",
       "      <td>Medium+</td>\n",
       "      <td>0.200</td>\n",
       "      <td>0.0</td>\n",
       "      <td>0</td>\n",
       "    </tr>\n",
       "    <tr>\n",
       "      <th>2</th>\n",
       "      <td>0</td>\n",
       "      <td>1</td>\n",
       "      <td>25000-30000 km</td>\n",
       "      <td>Medium+</td>\n",
       "      <td>0.285</td>\n",
       "      <td>0.0</td>\n",
       "      <td>0</td>\n",
       "    </tr>\n",
       "    <tr>\n",
       "      <th>3</th>\n",
       "      <td>0</td>\n",
       "      <td>0</td>\n",
       "      <td>12000 km</td>\n",
       "      <td>Medium-</td>\n",
       "      <td>0.247</td>\n",
       "      <td>0.0</td>\n",
       "      <td>0</td>\n",
       "    </tr>\n",
       "    <tr>\n",
       "      <th>4</th>\n",
       "      <td>0</td>\n",
       "      <td>0</td>\n",
       "      <td>12000 km</td>\n",
       "      <td>High-</td>\n",
       "      <td>0.995</td>\n",
       "      <td>18158.0</td>\n",
       "      <td>1</td>\n",
       "    </tr>\n",
       "  </tbody>\n",
       "</table>\n",
       "</div>"
      ],
      "text/plain": [
       "   Male  Young       DistLimit GeoRegion   Expo  ClaimAmount  NbClaim\n",
       "0     0      0        12000 km      Low+  0.789          0.0        0\n",
       "1     0      1        12000 km   Medium+  0.200          0.0        0\n",
       "2     0      1  25000-30000 km   Medium+  0.285          0.0        0\n",
       "3     0      0        12000 km   Medium-  0.247          0.0        0\n",
       "4     0      0        12000 km     High-  0.995      18158.0        1"
      ]
     },
     "execution_count": 19,
     "metadata": {},
     "output_type": "execute_result"
    }
   ],
   "source": [
    "df.head()"
   ]
  },
  {
   "attachments": {},
   "cell_type": "markdown",
   "metadata": {},
   "source": [
    "## distLimit\n",
    "The distance limit as stated in the insurance contract: \"8000 km\", \"12000 km\", \"16000 km\", \"20000 km\", \"25000-30000 km\", \"no limit\"."
   ]
  },
  {
   "cell_type": "code",
   "execution_count": 20,
   "metadata": {},
   "outputs": [],
   "source": [
    "df[\"DistLimit_ints\"] = pd.Categorical(df.DistLimit, categories=[\"8000 km\", \"12000 km\", \"16000 km\", \"20000 km\",\"25000-30000 km\", \"no limit\"], ordered=True).rename_categories(np.arange(6))"
   ]
  },
  {
   "attachments": {},
   "cell_type": "markdown",
   "metadata": {},
   "source": [
    "## GeoRegion\n",
    "GeoRegion Density of the geographical region (from heaviest to lightest): \"High+\", \"High-\", \"Medium+\", \"Medium-\", \"Low+\", \"Low-\"."
   ]
  },
  {
   "cell_type": "code",
   "execution_count": 21,
   "metadata": {},
   "outputs": [
    {
     "data": {
      "text/plain": [
       "array(['High+', 'High-', 'Low+', 'Low-', 'Medium+', 'Medium-'],\n",
       "      dtype=object)"
      ]
     },
     "execution_count": 21,
     "metadata": {},
     "output_type": "execute_result"
    }
   ],
   "source": [
    "np.unique(df.GeoRegion)"
   ]
  },
  {
   "cell_type": "code",
   "execution_count": 22,
   "metadata": {},
   "outputs": [],
   "source": [
    "df[\"GeoRegion_ints\"] = pd.Categorical(df.GeoRegion, categories=['Low-','Low+','Medium-', 'Medium+', 'High-','High+'], ordered=True).rename_categories(np.arange(6))"
   ]
  },
  {
   "cell_type": "code",
   "execution_count": 23,
   "metadata": {},
   "outputs": [
    {
     "data": {
      "text/html": [
       "<div>\n",
       "<style scoped>\n",
       "    .dataframe tbody tr th:only-of-type {\n",
       "        vertical-align: middle;\n",
       "    }\n",
       "\n",
       "    .dataframe tbody tr th {\n",
       "        vertical-align: top;\n",
       "    }\n",
       "\n",
       "    .dataframe thead th {\n",
       "        text-align: right;\n",
       "    }\n",
       "</style>\n",
       "<table border=\"1\" class=\"dataframe\">\n",
       "  <thead>\n",
       "    <tr style=\"text-align: right;\">\n",
       "      <th></th>\n",
       "      <th>Male</th>\n",
       "      <th>Young</th>\n",
       "      <th>DistLimit</th>\n",
       "      <th>GeoRegion</th>\n",
       "      <th>Expo</th>\n",
       "      <th>ClaimAmount</th>\n",
       "      <th>NbClaim</th>\n",
       "      <th>DistLimit_ints</th>\n",
       "      <th>GeoRegion_ints</th>\n",
       "    </tr>\n",
       "  </thead>\n",
       "  <tbody>\n",
       "    <tr>\n",
       "      <th>0</th>\n",
       "      <td>0</td>\n",
       "      <td>0</td>\n",
       "      <td>12000 km</td>\n",
       "      <td>Low+</td>\n",
       "      <td>0.789</td>\n",
       "      <td>0.0</td>\n",
       "      <td>0</td>\n",
       "      <td>1</td>\n",
       "      <td>1</td>\n",
       "    </tr>\n",
       "    <tr>\n",
       "      <th>1</th>\n",
       "      <td>0</td>\n",
       "      <td>1</td>\n",
       "      <td>12000 km</td>\n",
       "      <td>Medium+</td>\n",
       "      <td>0.200</td>\n",
       "      <td>0.0</td>\n",
       "      <td>0</td>\n",
       "      <td>1</td>\n",
       "      <td>3</td>\n",
       "    </tr>\n",
       "    <tr>\n",
       "      <th>2</th>\n",
       "      <td>0</td>\n",
       "      <td>1</td>\n",
       "      <td>25000-30000 km</td>\n",
       "      <td>Medium+</td>\n",
       "      <td>0.285</td>\n",
       "      <td>0.0</td>\n",
       "      <td>0</td>\n",
       "      <td>4</td>\n",
       "      <td>3</td>\n",
       "    </tr>\n",
       "    <tr>\n",
       "      <th>3</th>\n",
       "      <td>0</td>\n",
       "      <td>0</td>\n",
       "      <td>12000 km</td>\n",
       "      <td>Medium-</td>\n",
       "      <td>0.247</td>\n",
       "      <td>0.0</td>\n",
       "      <td>0</td>\n",
       "      <td>1</td>\n",
       "      <td>2</td>\n",
       "    </tr>\n",
       "    <tr>\n",
       "      <th>4</th>\n",
       "      <td>0</td>\n",
       "      <td>0</td>\n",
       "      <td>12000 km</td>\n",
       "      <td>High-</td>\n",
       "      <td>0.995</td>\n",
       "      <td>18158.0</td>\n",
       "      <td>1</td>\n",
       "      <td>1</td>\n",
       "      <td>4</td>\n",
       "    </tr>\n",
       "    <tr>\n",
       "      <th>...</th>\n",
       "      <td>...</td>\n",
       "      <td>...</td>\n",
       "      <td>...</td>\n",
       "      <td>...</td>\n",
       "      <td>...</td>\n",
       "      <td>...</td>\n",
       "      <td>...</td>\n",
       "      <td>...</td>\n",
       "      <td>...</td>\n",
       "    </tr>\n",
       "    <tr>\n",
       "      <th>183994</th>\n",
       "      <td>1</td>\n",
       "      <td>0</td>\n",
       "      <td>no limit</td>\n",
       "      <td>High-</td>\n",
       "      <td>0.430</td>\n",
       "      <td>0.0</td>\n",
       "      <td>0</td>\n",
       "      <td>5</td>\n",
       "      <td>4</td>\n",
       "    </tr>\n",
       "    <tr>\n",
       "      <th>183995</th>\n",
       "      <td>1</td>\n",
       "      <td>0</td>\n",
       "      <td>no limit</td>\n",
       "      <td>High+</td>\n",
       "      <td>0.718</td>\n",
       "      <td>27807.0</td>\n",
       "      <td>1</td>\n",
       "      <td>5</td>\n",
       "      <td>5</td>\n",
       "    </tr>\n",
       "    <tr>\n",
       "      <th>183996</th>\n",
       "      <td>1</td>\n",
       "      <td>0</td>\n",
       "      <td>25000-30000 km</td>\n",
       "      <td>High-</td>\n",
       "      <td>0.362</td>\n",
       "      <td>0.0</td>\n",
       "      <td>0</td>\n",
       "      <td>4</td>\n",
       "      <td>4</td>\n",
       "    </tr>\n",
       "    <tr>\n",
       "      <th>183997</th>\n",
       "      <td>1</td>\n",
       "      <td>0</td>\n",
       "      <td>25000-30000 km</td>\n",
       "      <td>High-</td>\n",
       "      <td>0.764</td>\n",
       "      <td>0.0</td>\n",
       "      <td>0</td>\n",
       "      <td>4</td>\n",
       "      <td>4</td>\n",
       "    </tr>\n",
       "    <tr>\n",
       "      <th>183998</th>\n",
       "      <td>1</td>\n",
       "      <td>0</td>\n",
       "      <td>no limit</td>\n",
       "      <td>Medium+</td>\n",
       "      <td>0.614</td>\n",
       "      <td>16999.0</td>\n",
       "      <td>1</td>\n",
       "      <td>5</td>\n",
       "      <td>3</td>\n",
       "    </tr>\n",
       "  </tbody>\n",
       "</table>\n",
       "<p>183999 rows × 9 columns</p>\n",
       "</div>"
      ],
      "text/plain": [
       "        Male  Young       DistLimit GeoRegion   Expo  ClaimAmount  NbClaim  \\\n",
       "0          0      0        12000 km      Low+  0.789          0.0        0   \n",
       "1          0      1        12000 km   Medium+  0.200          0.0        0   \n",
       "2          0      1  25000-30000 km   Medium+  0.285          0.0        0   \n",
       "3          0      0        12000 km   Medium-  0.247          0.0        0   \n",
       "4          0      0        12000 km     High-  0.995      18158.0        1   \n",
       "...      ...    ...             ...       ...    ...          ...      ...   \n",
       "183994     1      0        no limit     High-  0.430          0.0        0   \n",
       "183995     1      0        no limit     High+  0.718      27807.0        1   \n",
       "183996     1      0  25000-30000 km     High-  0.362          0.0        0   \n",
       "183997     1      0  25000-30000 km     High-  0.764          0.0        0   \n",
       "183998     1      0        no limit   Medium+  0.614      16999.0        1   \n",
       "\n",
       "       DistLimit_ints GeoRegion_ints  \n",
       "0                   1              1  \n",
       "1                   1              3  \n",
       "2                   4              3  \n",
       "3                   1              2  \n",
       "4                   1              4  \n",
       "...               ...            ...  \n",
       "183994              5              4  \n",
       "183995              5              5  \n",
       "183996              4              4  \n",
       "183997              4              4  \n",
       "183998              5              3  \n",
       "\n",
       "[183999 rows x 9 columns]"
      ]
     },
     "execution_count": 23,
     "metadata": {},
     "output_type": "execute_result"
    }
   ],
   "source": [
    "df"
   ]
  },
  {
   "cell_type": "code",
   "execution_count": 24,
   "metadata": {},
   "outputs": [],
   "source": [
    "df[\"y\"] = df.NbClaim/df.Expo"
   ]
  },
  {
   "cell_type": "code",
   "execution_count": 25,
   "metadata": {},
   "outputs": [],
   "source": [
    "df.insert(len(df.columns)-1, 'y', df.pop('y'))"
   ]
  },
  {
   "cell_type": "code",
   "execution_count": 26,
   "metadata": {},
   "outputs": [],
   "source": [
    "ClaimNb = df.NbClaim.to_numpy()\n",
    "Exposure = df.Expo.to_numpy()\n",
    "df.drop([\"DistLimit\",\"GeoRegion\",\"ClaimAmount\",\"Expo\",\"NbClaim\"],axis=1,inplace=True)"
   ]
  },
  {
   "cell_type": "code",
   "execution_count": 27,
   "metadata": {},
   "outputs": [
    {
     "data": {
      "text/html": [
       "<div>\n",
       "<style scoped>\n",
       "    .dataframe tbody tr th:only-of-type {\n",
       "        vertical-align: middle;\n",
       "    }\n",
       "\n",
       "    .dataframe tbody tr th {\n",
       "        vertical-align: top;\n",
       "    }\n",
       "\n",
       "    .dataframe thead th {\n",
       "        text-align: right;\n",
       "    }\n",
       "</style>\n",
       "<table border=\"1\" class=\"dataframe\">\n",
       "  <thead>\n",
       "    <tr style=\"text-align: right;\">\n",
       "      <th></th>\n",
       "      <th>Male</th>\n",
       "      <th>Young</th>\n",
       "      <th>DistLimit_ints</th>\n",
       "      <th>GeoRegion_ints</th>\n",
       "      <th>y</th>\n",
       "    </tr>\n",
       "  </thead>\n",
       "  <tbody>\n",
       "    <tr>\n",
       "      <th>0</th>\n",
       "      <td>0</td>\n",
       "      <td>0</td>\n",
       "      <td>1</td>\n",
       "      <td>1</td>\n",
       "      <td>0.000000</td>\n",
       "    </tr>\n",
       "    <tr>\n",
       "      <th>1</th>\n",
       "      <td>0</td>\n",
       "      <td>1</td>\n",
       "      <td>1</td>\n",
       "      <td>3</td>\n",
       "      <td>0.000000</td>\n",
       "    </tr>\n",
       "    <tr>\n",
       "      <th>2</th>\n",
       "      <td>0</td>\n",
       "      <td>1</td>\n",
       "      <td>4</td>\n",
       "      <td>3</td>\n",
       "      <td>0.000000</td>\n",
       "    </tr>\n",
       "    <tr>\n",
       "      <th>3</th>\n",
       "      <td>0</td>\n",
       "      <td>0</td>\n",
       "      <td>1</td>\n",
       "      <td>2</td>\n",
       "      <td>0.000000</td>\n",
       "    </tr>\n",
       "    <tr>\n",
       "      <th>4</th>\n",
       "      <td>0</td>\n",
       "      <td>0</td>\n",
       "      <td>1</td>\n",
       "      <td>4</td>\n",
       "      <td>1.005025</td>\n",
       "    </tr>\n",
       "    <tr>\n",
       "      <th>...</th>\n",
       "      <td>...</td>\n",
       "      <td>...</td>\n",
       "      <td>...</td>\n",
       "      <td>...</td>\n",
       "      <td>...</td>\n",
       "    </tr>\n",
       "    <tr>\n",
       "      <th>183994</th>\n",
       "      <td>1</td>\n",
       "      <td>0</td>\n",
       "      <td>5</td>\n",
       "      <td>4</td>\n",
       "      <td>0.000000</td>\n",
       "    </tr>\n",
       "    <tr>\n",
       "      <th>183995</th>\n",
       "      <td>1</td>\n",
       "      <td>0</td>\n",
       "      <td>5</td>\n",
       "      <td>5</td>\n",
       "      <td>1.392758</td>\n",
       "    </tr>\n",
       "    <tr>\n",
       "      <th>183996</th>\n",
       "      <td>1</td>\n",
       "      <td>0</td>\n",
       "      <td>4</td>\n",
       "      <td>4</td>\n",
       "      <td>0.000000</td>\n",
       "    </tr>\n",
       "    <tr>\n",
       "      <th>183997</th>\n",
       "      <td>1</td>\n",
       "      <td>0</td>\n",
       "      <td>4</td>\n",
       "      <td>4</td>\n",
       "      <td>0.000000</td>\n",
       "    </tr>\n",
       "    <tr>\n",
       "      <th>183998</th>\n",
       "      <td>1</td>\n",
       "      <td>0</td>\n",
       "      <td>5</td>\n",
       "      <td>3</td>\n",
       "      <td>1.628664</td>\n",
       "    </tr>\n",
       "  </tbody>\n",
       "</table>\n",
       "<p>183999 rows × 5 columns</p>\n",
       "</div>"
      ],
      "text/plain": [
       "        Male  Young DistLimit_ints GeoRegion_ints         y\n",
       "0          0      0              1              1  0.000000\n",
       "1          0      1              1              3  0.000000\n",
       "2          0      1              4              3  0.000000\n",
       "3          0      0              1              2  0.000000\n",
       "4          0      0              1              4  1.005025\n",
       "...      ...    ...            ...            ...       ...\n",
       "183994     1      0              5              4  0.000000\n",
       "183995     1      0              5              5  1.392758\n",
       "183996     1      0              4              4  0.000000\n",
       "183997     1      0              4              4  0.000000\n",
       "183998     1      0              5              3  1.628664\n",
       "\n",
       "[183999 rows x 5 columns]"
      ]
     },
     "execution_count": 27,
     "metadata": {},
     "output_type": "execute_result"
    }
   ],
   "source": [
    "df"
   ]
  },
  {
   "cell_type": "code",
   "execution_count": 28,
   "metadata": {},
   "outputs": [],
   "source": [
    "X = df.to_numpy()[:,:-1]\n",
    "y = df.to_numpy()[:,-1]"
   ]
  },
  {
   "cell_type": "code",
   "execution_count": 29,
   "metadata": {},
   "outputs": [
    {
     "data": {
      "text/plain": [
       "0.27006646122057276"
      ]
     },
     "execution_count": 29,
     "metadata": {},
     "output_type": "execute_result"
    }
   ],
   "source": [
    "lm = PoissonRegressor(alpha=0.001).fit(X,y)\n",
    "mean_poisson_deviance(ClaimNb,lm.predict(X)*Exposure)"
   ]
  },
  {
   "cell_type": "code",
   "execution_count": 30,
   "metadata": {},
   "outputs": [
    {
     "data": {
      "text/plain": [
       "0.2709736255375587"
      ]
     },
     "execution_count": 30,
     "metadata": {},
     "output_type": "execute_result"
    }
   ],
   "source": [
    "t = BaseLineTree(criterion=\"poisson\",adaptive_complexity=True).fit(X,y)\n",
    "mean_poisson_deviance(ClaimNb,t.predict(X)*Exposure)\n"
   ]
  },
  {
   "cell_type": "code",
   "execution_count": 31,
   "metadata": {},
   "outputs": [
    {
     "data": {
      "text/plain": [
       "0.27097362553755866"
      ]
     },
     "execution_count": 31,
     "metadata": {},
     "output_type": "execute_result"
    }
   ],
   "source": [
    "t = StabilityRegularization(criterion = \"poisson\", adaptive_complexity=True,lmbda=0.75).fit(X,y)\n",
    "t.update(X,y)\n",
    "mean_poisson_deviance(ClaimNb,t.predict(X)*Exposure)"
   ]
  },
  {
   "cell_type": "code",
   "execution_count": 32,
   "metadata": {},
   "outputs": [
    {
     "name": "stdout",
     "output_type": "stream",
     "text": [
      "0.07236579585294962 0.07244842750596137 0.06938171954509159\n",
      "0.07089445159565323 0.0713608112040344 0.07373215519800867\n",
      "0.07213165658914837 0.07202774682041228 0.07106443085574757\n",
      "0.07242855885897236 0.07163584835400687 0.07263201407195437\n",
      "0.07182415399539017 0.07170257991770056 0.07236510763400791\n",
      "0.07201724665770039 0.07178960727362038 0.07201698257173185\n",
      "0.07344811847574875 0.07214916785558138 0.07057875001455577\n",
      "0.07288589752266866 0.07208077011408366 0.07085233912191241\n",
      "0.07066565599255317 0.07132253477840812 0.07388525986039346\n",
      "0.0720854931635658 0.07183333289214838 0.07184208152355057\n",
      "0.07097240259668117 0.07141237241392806 0.07352591175955392\n",
      "0.07153520650148612 0.07185885959204032 0.07173997517990861\n",
      "0.07225048468405548 0.0716983350229261 0.07238206909428484\n",
      "0.07254811380582032 0.07223283611164623 0.07024407926389038\n",
      "0.07214614090842089 0.07197300882440943 0.0712833626119272\n",
      "0.07300112140358092 0.07176996604531646 0.0720955469512185\n",
      "0.0721537391320823 0.0714407229216666 0.07341251049899397\n",
      "0.07159832565198503 0.0722338783715955 0.07023991025241555\n",
      "0.07065975986457299 0.07117417819291685 0.07447868217092964\n",
      "0.0751320941473411 0.07255666246838942 0.06894868459366985\n",
      "0.07154442799056374 0.07208568070189762 0.07083269690409652\n",
      "0.07087276815326475 0.07245155626090458 0.06936920461033924\n",
      "0.07119734892836685 0.07082309439584078 0.07588300781891337\n",
      "0.07152807442454456 0.07153850260181127 0.07302139443547179\n",
      "0.0717609071581986 0.07227657594220523 0.07006906114342148\n",
      "0.07060407809729684 0.0718269989140183 0.07186741702621732\n",
      "0.07157468133315213 0.0712290467634665 0.07425920937972483\n",
      "0.07218276116641249 0.07223220382473795 0.07024660839434177\n",
      "0.07269914336977389 0.07217025127440026 0.07049441691219936\n",
      "0.07311825128805605 0.07171691292812082 0.07230777403434857\n",
      "0.07197863376995402 0.07270635042297738 0.06835003488580238\n",
      "0.07202482932649829 0.07155368788567244 0.07296065371267067\n",
      "0.07126542708212992 0.07116257475345096 0.07452509561348232\n",
      "0.07059377894334794 0.0712678681243575 0.07410392499108913\n",
      "0.07172303967630453 0.07248492730076112 0.06923563306169571\n",
      "0.07176043816246162 0.07194317690302576 0.0714027082271981\n",
      "0.07083018746658544 0.07153413669449506 0.07303885794609782\n",
      "0.07205359089836122 0.07203211996542964 0.07104693839451356\n",
      "0.07334515811557037 0.07146650521221262 0.07330938203741559\n",
      "0.07157634006431039 0.07219947165130626 0.07037748668814629\n",
      "0.07194178631984495 0.07151157100709388 0.07312912008250456\n",
      "0.070905519781075 0.07171993700780799 0.07229566174176763\n",
      "0.0717012831441511 0.07115215714439399 0.07456676576662301\n",
      "0.07449761097034616 0.07325450092752701 0.0661574477629981\n",
      "0.07201633197380466 0.07153724883847334 0.07302644992217464\n",
      "0.07040738780138565 0.07130274501890263 0.07396441836065028\n",
      "0.07211758694737315 0.07224490089841917 0.07019582044464608\n",
      "0.07131753682104783 0.07188943596222197 0.07161767053006157\n",
      "0.0710517984672217 0.07164376278427427 0.07260035656595074\n",
      "0.07048140841581986 0.07209456647532717 0.07079711879510912\n",
      "================================================================================\n",
      "baseline\n",
      "orig - poisson: 0.271 (1.00), stability: 0.009 (1.00), standard stability: 190.218 (1.00)\n",
      "train - poisson: 0.271 (1.00), stability: 0.009 (1.00), standard stability: 183.850 (1.00)\n",
      "test - poisson: 0.271 (1.00), stability: 0.008 (1.00), standard stability: 15.132 (1.00)\n",
      "================================================================================\n",
      "================================================================================\n",
      "poisReg\n",
      "orig - poisson: 0.270 (1.00), stability: 0.001 (0.17), standard stability: 0.000 (0.00)\n",
      "train - poisson: 0.270 (1.00), stability: 0.001 (0.17), standard stability: 0.000 (0.00)\n",
      "test - poisson: 0.270 (1.00), stability: 0.001 (0.18), standard stability: 0.000 (0.00)\n",
      "================================================================================\n",
      "================================================================================\n",
      "NU\n",
      "orig - poisson: 0.272 (1.00), stability: 0.008 (0.87), standard stability: 180.522 (0.95)\n",
      "train - poisson: 0.272 (1.00), stability: 0.008 (0.87), standard stability: 174.478 (0.95)\n",
      "test - poisson: 0.272 (1.00), stability: 0.007 (0.90), standard stability: 14.361 (0.95)\n",
      "================================================================================\n",
      "================================================================================\n",
      "TR\n",
      "orig - poisson: 0.272 (1.00), stability: 0.008 (0.89), standard stability: 180.522 (0.95)\n",
      "train - poisson: 0.272 (1.00), stability: 0.008 (0.90), standard stability: 174.479 (0.95)\n",
      "test - poisson: 0.272 (1.00), stability: 0.008 (0.92), standard stability: 14.361 (0.95)\n",
      "================================================================================\n",
      "================================================================================\n",
      "SR\n",
      "orig - poisson: 0.300 (1.11), stability: 0.000 (0.02), standard stability: 2.256 (0.01)\n",
      "train - poisson: 0.300 (1.11), stability: 0.000 (0.02), standard stability: 2.181 (0.01)\n",
      "test - poisson: 0.279 (1.03), stability: 0.000 (0.02), standard stability: 0.179 (0.01)\n",
      "================================================================================\n",
      "================================================================================\n",
      "ABU\n",
      "orig - poisson: 0.271 (1.00), stability: 0.001 (0.14), standard stability: 187.000 (0.98)\n",
      "train - poisson: 0.272 (1.00), stability: 0.001 (0.14), standard stability: 180.740 (0.98)\n",
      "test - poisson: 0.272 (1.00), stability: 0.001 (0.13), standard stability: 14.875 (0.98)\n",
      "================================================================================\n",
      "================================================================================\n",
      "BABU\n",
      "orig - poisson: 0.304 (1.12), stability: 0.001 (0.06), standard stability: 0.000 (0.00)\n",
      "train - poisson: 0.303 (1.12), stability: 0.001 (0.06), standard stability: 0.000 (0.00)\n",
      "test - poisson: 0.280 (1.03), stability: 0.001 (0.06), standard stability: 0.000 (0.00)\n",
      "================================================================================\n",
      "\n"
     ]
    }
   ],
   "source": [
    "models = {  \n",
    "            \"baseline\": BaseLineTree(),\n",
    "            \"poisReg\": PoissonRegressor(alpha=0.001),\n",
    "            \"NU\": NaiveUpdate(),\n",
    "            \"TR\":TreeReevaluation(delta=0.1),\n",
    "            \"SR\":StabilityRegularization(),\n",
    "            \"ABU\":AbuTreeI(),\n",
    "            \"BABU\": BABUTree()\n",
    "            }\n",
    "stability_all = {name:[] for name in models.keys()}\n",
    "standard_stability_all= {name:[] for name in models.keys()}\n",
    "mse_all= {name:[] for name in models.keys()}\n",
    "\n",
    "stability = {name:[] for name in models.keys()}\n",
    "standard_stability = {name:[] for name in models.keys()}\n",
    "mse = {name:[] for name in models.keys()}\n",
    "train_stability = {name:[] for name in models.keys()}\n",
    "train_standard_stability = {name:[] for name in models.keys()}\n",
    "train_mse = {name:[] for name in models.keys()}\n",
    "orig_stability = {name:[] for name in models.keys()}\n",
    "orig_standard_stability = {name:[] for name in models.keys()}\n",
    "orig_mse = {name:[] for name in models.keys()}\n",
    "kf = RepeatedKFold(n_splits= 5,n_repeats=10, random_state=SEED)\n",
    "for train_index, test_index in kf.split(X):\n",
    "    X_12, y_12 = X[train_index],y[train_index]\n",
    "    ClaimNb_12 = ClaimNb[train_index]\n",
    "    Exposure_12  = Exposure[train_index]\n",
    "    X_test,y_test = X[test_index],y[test_index]\n",
    "    ClaimNb_test = ClaimNb[test_index]\n",
    "    Exposure_test  = Exposure[test_index]\n",
    "    X1,X2,y1,y2,ClaimNb_1,ClaimNb_2,Exposure_1,Exposure_2 =  train_test_split(X_12, y_12,ClaimNb_12,Exposure_12, test_size=0.5, random_state=SEED)\n",
    "   \n",
    "    # initial model \n",
    "    criterion = \"poisson\"\n",
    "    models = {  \n",
    "            \"baseline\": BaseLineTree(criterion = criterion, adaptive_complexity=True),\n",
    "            \"poisReg\": PoissonRegressor(alpha=0.001),\n",
    "            \"NU\": NaiveUpdate(criterion = criterion, adaptive_complexity=True),\n",
    "            \"TR\":TreeReevaluation(criterion = criterion, adaptive_complexity=True, delta=0.1),\n",
    "            \"SR\":StabilityRegularization(criterion = criterion, adaptive_complexity=True,lmbda=0.75),\n",
    "            \"ABU\":AbuTreeI(criterion = criterion, adaptive_complexity=True),\n",
    "            \"BABU\": BABUTree(criterion = criterion, adaptive_complexity=True),\n",
    "\n",
    "            }\n",
    "    for name, model in models.items():\n",
    "        model.fit(X1,y1)\n",
    "        \n",
    "        pred1 = model.predict(X_test)\n",
    "        pred1_train = model.predict(X_12)\n",
    "        pred1_orig= model.predict(X1)\n",
    "        #print(\"before\")\n",
    "        \n",
    "            \n",
    "        if name == \"poisReg\":\n",
    "            model.fit(X_12,y_12)\n",
    "        else:\n",
    "            model.update(X_12,y_12)\n",
    "        #print(\"after\")\n",
    "        pred2 = model.predict(X_test)\n",
    "        pred2_orig= model.predict(X1)\n",
    "        pred2_train =  model.predict(X_12)\n",
    "        if name == \"SR\": # if np.any(np.isnan(pred2_orig)  )or np.any(np.isinf(pred2_orig)  ):\n",
    "            print(np.mean(y1), np.mean(y_12), np.mean(y_test))\n",
    "        orig_mse[name].append(mean_poisson_deviance(ClaimNb_1+0.00001,pred2_orig*Exposure_1+0.00001))\n",
    "        orig_stability[name].append(S1(pred1_orig*Exposure_1,pred2_orig*Exposure_1))\n",
    "        orig_standard_stability[name].append(S2(pred1_orig*Exposure_1,pred2_orig*Exposure_1))\n",
    "\n",
    "        train_mse[name].append(mean_poisson_deviance(ClaimNb_12+0.00001,pred2_train*Exposure_12+0.00001))\n",
    "        train_stability[name].append(S1(pred1_train*Exposure_12,pred2_train*Exposure_12))\n",
    "        train_standard_stability[name].append(S2(pred1_train*Exposure_12,pred2_train*Exposure_12))\n",
    "        mse[name].append(mean_poisson_deviance(ClaimNb_test+0.00001,pred2*Exposure_test+0.00001))\n",
    "        stability[name].append(S1(pred1*Exposure_test,pred2*Exposure_test))\n",
    "        standard_stability[name].append(S2(pred1*Exposure_test,pred2*Exposure_test))\n",
    "    \n",
    "for name in models.keys():\n",
    "    print(\"=\"*80)\n",
    "    print(f\"{name}\")\n",
    "    orig_mse_scale = np.mean(orig_mse[\"baseline\"]); orig_S1_scale = np.mean(orig_stability[\"baseline\"]); orig_S2_scale = np.mean(orig_standard_stability[\"baseline\"]);\n",
    "    train_mse_scale = np.mean(train_mse[\"baseline\"]); train_S1_scale = np.mean(train_stability[\"baseline\"]); train_S2_scale = np.mean(train_standard_stability[\"baseline\"]);\n",
    "    mse_scale = np.mean(mse[\"baseline\"]); S1_scale = np.mean(stability[\"baseline\"]); S2_scale = np.mean(standard_stability[\"baseline\"]);\n",
    "    \n",
    "    print(f\"orig - poisson: {np.mean(orig_mse[name]):.3f} ({np.mean(orig_mse[name])/orig_mse_scale:.2f}), stability: {np.mean(orig_stability[name]):.3f} ({np.mean(orig_stability[name])/orig_S1_scale:.2f}), standard stability: {np.mean(orig_standard_stability[name]):.3f} ({np.mean(orig_standard_stability[name])/orig_S2_scale:.2f})\")\n",
    "    print(f\"train - poisson: {np.mean(train_mse[name]):.3f} ({np.mean(train_mse[name])/train_mse_scale:.2f}), stability: {np.mean(train_stability[name]):.3f} ({np.mean(train_stability[name])/train_S1_scale:.2f}), standard stability: {np.mean(train_standard_stability[name]):.3f} ({np.mean(train_standard_stability[name])/train_S2_scale:.2f})\")\n",
    "    print(f\"test - poisson: {np.mean(mse[name]):.3f} ({np.mean(mse[name])/mse_scale:.2f}), stability: {np.mean(stability[name]):.3f} ({np.mean(stability[name])/S1_scale:.2f}), standard stability: {np.mean(standard_stability[name]):.3f} ({np.mean(standard_stability[name])/S2_scale:.2f})\")\n",
    "    print(\"=\"*80)\n",
    "    mse_all[name] += [score/mse_scale for score in mse[name]]\n",
    "    stability_all[name] += [score/S1_scale for score in stability[name]]\n",
    "    standard_stability_all[name] += [score/S2_scale for score in standard_stability[name]]\n",
    "print()"
   ]
  },
  {
   "cell_type": "code",
   "execution_count": 33,
   "metadata": {},
   "outputs": [
    {
     "data": {
      "text/plain": [
       "array([[0, 0],\n",
       "       [0, 1],\n",
       "       [1, 1],\n",
       "       [1, 1],\n",
       "       [1, 1]])"
      ]
     },
     "execution_count": 33,
     "metadata": {},
     "output_type": "execute_result"
    }
   ],
   "source": [
    "x = np.array([[0,0],[0,1],[1,1],[1,1],[1,1]])\n",
    "y = np.array([0,0,2,2,3])\n",
    "x"
   ]
  },
  {
   "cell_type": "code",
   "execution_count": 34,
   "metadata": {},
   "outputs": [
    {
     "data": {
      "text/plain": [
       "array([1.4, 1.4, 1.4, 1.4, 1.4])"
      ]
     },
     "execution_count": 34,
     "metadata": {},
     "output_type": "execute_result"
    }
   ],
   "source": [
    "t = DecisionTreeRegressor(criterion=\"poisson\").fit(x,y)\n",
    "t.predict(x)"
   ]
  },
  {
   "cell_type": "code",
   "execution_count": 35,
   "metadata": {},
   "outputs": [
    {
     "data": {
      "text/plain": [
       "[Text(167.4, 108.72, 'poisson = 0.743\\nsamples = 5\\nvalue = 1.4')]"
      ]
     },
     "execution_count": 35,
     "metadata": {},
     "output_type": "execute_result"
    },
    {
     "data": {
      "image/png": "[encoded data removed]",
      "text/plain": [
       "<Figure size 432x288 with 1 Axes>"
      ]
     },
     "metadata": {
      "needs_background": "light"
     },
     "output_type": "display_data"
    }
   ],
   "source": [
    "from sklearn.tree import plot_tree\n",
    "plot_tree(t)"
   ]
  },
  {
   "cell_type": "code",
   "execution_count": 36,
   "metadata": {},
   "outputs": [
    {
     "data": {
      "image/png": "[encoded data removed]",
      "text/plain": [
       "<Figure size 1440x720 with 1 Axes>"
      ]
     },
     "metadata": {
      "needs_background": "light"
     },
     "output_type": "display_data"
    }
   ],
   "source": [
    "t = AbuTreeI(criterion=\"poisson\",min_samples_leaf=1).fit(x,y)\n",
    "t.plot()"
   ]
  },
  {
   "cell_type": "code",
   "execution_count": null,
   "metadata": {},
   "outputs": [
    {
     "ename": "",
     "evalue": "",
     "output_type": "error",
     "traceback": [
      "\u001b[1;31mCanceled future for execute_request message before replies were done"
     ]
    },
    {
     "ename": "",
     "evalue": "",
     "output_type": "error",
     "traceback": [
      "\u001b[1;31mThe Kernel crashed while executing code in the the current cell or a previous cell. Please review the code in the cell(s) to identify a possible cause of the failure. Click <a href='https://aka.ms/vscodeJupyterKernelCrash'>here</a> for more info. View Jupyter <a href='command:jupyter.viewOutput'>log</a> for further details."
     ]
    }
   ],
   "source": [
    "t.predict(x)"
   ]
  },
  {
   "cell_type": "code",
   "execution_count": null,
   "metadata": {},
   "outputs": [
    {
     "data": {
      "text/plain": [
       "2.718281828459045"
      ]
     },
     "execution_count": 5,
     "metadata": {},
     "output_type": "execute_result"
    }
   ],
   "source": [
    "np.exp(-0.8+np.mean(y))"
   ]
  },
  {
   "cell_type": "code",
   "execution_count": null,
   "metadata": {},
   "outputs": [],
   "source": []
  }
 ],
 "metadata": {
  "kernelspec": {
   "display_name": "base",
   "language": "python",
   "name": "python3"
  },
  "language_info": {
   "codemirror_mode": {
    "name": "ipython",
    "version": 3
   },
   "file_extension": ".py",
   "mimetype": "text/x-python",
   "name": "python",
   "nbconvert_exporter": "python",
   "pygments_lexer": "ipython3",
   "version": "3.9.7"
  },
  "orig_nbformat": 4
 },
 "nbformat": 4,
 "nbformat_minor": 2
}
