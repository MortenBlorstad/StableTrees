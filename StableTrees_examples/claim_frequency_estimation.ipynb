{
 "cells": [
  {
   "attachments": {},
   "cell_type": "markdown",
   "metadata": {},
   "source": [
    "# French Motor Claims Datasets\n",
    "\n",
    "This analysis uses the same features as in the book \"Computational Actuarial Science with R\" by Arthur Charpentier.\n",
    "\n",
    "Charpentier Arthur and Katrien Antonio. 2015. Computational Actuarial Science with R. Boca Raton Florida: CRC Press."
   ]
  },
  {
   "cell_type": "code",
   "execution_count": 1,
   "metadata": {},
   "outputs": [],
   "source": [
    "import pandas as pd\n",
    "import tarfile\n",
    "import os\n",
    "import matplotlib.pyplot as plt\n",
    "import numpy as np\n",
    "from sklearn.model_selection import train_test_split\n",
    "from sklearn.metrics import mean_poisson_deviance\n",
    "from sklearn.preprocessing import OrdinalEncoder,OneHotEncoder\n",
    "from sklearn.compose import ColumnTransformer\n",
    "from sklearn.pipeline import Pipeline\n",
    "from stabletrees import BaseLineTree,AbuTreeI,NaiveUpdate,TreeReevaluation,StabilityRegularization, BootstrapUpdate\n",
    "SEED = 0\n",
    "plt.rcParams[\"figure.figsize\"] = (20,12)"
   ]
  },
  {
   "cell_type": "code",
   "execution_count": 5,
   "metadata": {},
   "outputs": [
    {
     "name": "stdout",
     "output_type": "stream",
     "text": [
      "AllstateClaim\n",
      "freMTPL2freq\n",
      "freMTPLfreq\n"
     ]
    }
   ],
   "source": [
    "path = \"..\\data\\poisson\"\n",
    "for file in os.listdir(path):\n",
    "    if file.endswith('.csv'):\n",
    "        name = file.split(\".\")[0]\n",
    "        print(name)\n",
    "        tar = tarfile.open(path+\"//\"+name+\".tar.gz\", \"w:gz\")\n",
    "        tar.add(path+\"//\"+file)\n",
    "        tar.close()"
   ]
  },
  {
   "cell_type": "code",
   "execution_count": 2,
   "metadata": {},
   "outputs": [],
   "source": [
    "with tarfile.open(\"..\\data\\poisson\\\\freMTPLfreq.tar.gz\", \"r:*\") as tar:\n",
    "    csv_path = tar.getnames()[0]\n",
    "    df = pd.read_csv(tar.extractfile(csv_path), header=0)"
   ]
  },
  {
   "cell_type": "code",
   "execution_count": 3,
   "metadata": {},
   "outputs": [
    {
     "data": {
      "text/html": [
       "<div>\n",
       "<style scoped>\n",
       "    .dataframe tbody tr th:only-of-type {\n",
       "        vertical-align: middle;\n",
       "    }\n",
       "\n",
       "    .dataframe tbody tr th {\n",
       "        vertical-align: top;\n",
       "    }\n",
       "\n",
       "    .dataframe thead th {\n",
       "        text-align: right;\n",
       "    }\n",
       "</style>\n",
       "<table border=\"1\" class=\"dataframe\">\n",
       "  <thead>\n",
       "    <tr style=\"text-align: right;\">\n",
       "      <th></th>\n",
       "      <th>PolicyID</th>\n",
       "      <th>ClaimNb</th>\n",
       "      <th>Exposure</th>\n",
       "      <th>Power</th>\n",
       "      <th>CarAge</th>\n",
       "      <th>DriverAge</th>\n",
       "      <th>Brand</th>\n",
       "      <th>Gas</th>\n",
       "      <th>Region</th>\n",
       "      <th>Density</th>\n",
       "    </tr>\n",
       "  </thead>\n",
       "  <tbody>\n",
       "    <tr>\n",
       "      <th>0</th>\n",
       "      <td>1</td>\n",
       "      <td>0</td>\n",
       "      <td>0.09</td>\n",
       "      <td>g</td>\n",
       "      <td>0</td>\n",
       "      <td>46</td>\n",
       "      <td>Japanese (except Nissan) or Korean</td>\n",
       "      <td>Diesel</td>\n",
       "      <td>Aquitaine</td>\n",
       "      <td>76</td>\n",
       "    </tr>\n",
       "    <tr>\n",
       "      <th>1</th>\n",
       "      <td>2</td>\n",
       "      <td>0</td>\n",
       "      <td>0.84</td>\n",
       "      <td>g</td>\n",
       "      <td>0</td>\n",
       "      <td>46</td>\n",
       "      <td>Japanese (except Nissan) or Korean</td>\n",
       "      <td>Diesel</td>\n",
       "      <td>Aquitaine</td>\n",
       "      <td>76</td>\n",
       "    </tr>\n",
       "    <tr>\n",
       "      <th>2</th>\n",
       "      <td>3</td>\n",
       "      <td>0</td>\n",
       "      <td>0.52</td>\n",
       "      <td>f</td>\n",
       "      <td>2</td>\n",
       "      <td>38</td>\n",
       "      <td>Japanese (except Nissan) or Korean</td>\n",
       "      <td>Regular</td>\n",
       "      <td>Nord-Pas-de-Calais</td>\n",
       "      <td>3003</td>\n",
       "    </tr>\n",
       "    <tr>\n",
       "      <th>3</th>\n",
       "      <td>4</td>\n",
       "      <td>0</td>\n",
       "      <td>0.45</td>\n",
       "      <td>f</td>\n",
       "      <td>2</td>\n",
       "      <td>38</td>\n",
       "      <td>Japanese (except Nissan) or Korean</td>\n",
       "      <td>Regular</td>\n",
       "      <td>Nord-Pas-de-Calais</td>\n",
       "      <td>3003</td>\n",
       "    </tr>\n",
       "    <tr>\n",
       "      <th>4</th>\n",
       "      <td>5</td>\n",
       "      <td>0</td>\n",
       "      <td>0.15</td>\n",
       "      <td>g</td>\n",
       "      <td>0</td>\n",
       "      <td>41</td>\n",
       "      <td>Japanese (except Nissan) or Korean</td>\n",
       "      <td>Diesel</td>\n",
       "      <td>Pays-de-la-Loire</td>\n",
       "      <td>60</td>\n",
       "    </tr>\n",
       "  </tbody>\n",
       "</table>\n",
       "</div>"
      ],
      "text/plain": [
       "   PolicyID  ClaimNb  Exposure Power  CarAge  DriverAge  \\\n",
       "0         1        0      0.09     g       0         46   \n",
       "1         2        0      0.84     g       0         46   \n",
       "2         3        0      0.52     f       2         38   \n",
       "3         4        0      0.45     f       2         38   \n",
       "4         5        0      0.15     g       0         41   \n",
       "\n",
       "                                Brand      Gas              Region  Density  \n",
       "0  Japanese (except Nissan) or Korean   Diesel           Aquitaine       76  \n",
       "1  Japanese (except Nissan) or Korean   Diesel           Aquitaine       76  \n",
       "2  Japanese (except Nissan) or Korean  Regular  Nord-Pas-de-Calais     3003  \n",
       "3  Japanese (except Nissan) or Korean  Regular  Nord-Pas-de-Calais     3003  \n",
       "4  Japanese (except Nissan) or Korean   Diesel    Pays-de-la-Loire       60  "
      ]
     },
     "execution_count": 3,
     "metadata": {},
     "output_type": "execute_result"
    }
   ],
   "source": [
    "df.head()"
   ]
  },
  {
   "cell_type": "code",
   "execution_count": 4,
   "metadata": {},
   "outputs": [],
   "source": [
    "df[\"y\"] =df.ClaimNb * df.Exposure #annulized claim frequency (see p.480 in computational actuarial science with R)\n",
    "\n",
    "ClaimNb = df.ClaimNb.to_numpy()\n",
    "Exposure = df.Exposure.to_numpy()\n",
    "df.drop([\"PolicyID\",\"Exposure\",\"ClaimNb\"],axis=1,inplace=True)\n"
   ]
  },
  {
   "attachments": {},
   "cell_type": "markdown",
   "metadata": {},
   "source": [
    "## Density\n",
    "The density of inhabitants (number of inhabitants per km2) in the city the driver of the car lives in."
   ]
  },
  {
   "cell_type": "code",
   "execution_count": 5,
   "metadata": {},
   "outputs": [],
   "source": [
    "df.Density = pd.cut(df.Density, include_lowest=True, bins=[0,40,200,500,4500,np.inf])"
   ]
  },
  {
   "attachments": {},
   "cell_type": "markdown",
   "metadata": {},
   "source": [
    "## DrivAge\n",
    "The driver age, in years (in France, people can drive a car at 18)."
   ]
  },
  {
   "cell_type": "code",
   "execution_count": 6,
   "metadata": {},
   "outputs": [],
   "source": [
    "df.DriverAge  = pd.cut(df.DriverAge , bins=[17,22,26,42,74,np.inf])"
   ]
  },
  {
   "attachments": {},
   "cell_type": "markdown",
   "metadata": {},
   "source": [
    "## VehAge \n",
    "The vehicle age, in years."
   ]
  },
  {
   "cell_type": "code",
   "execution_count": 7,
   "metadata": {},
   "outputs": [],
   "source": [
    "df.CarAge  = pd.cut(df.CarAge, include_lowest=True , bins=[0,15,np.inf])"
   ]
  },
  {
   "attachments": {},
   "cell_type": "markdown",
   "metadata": {},
   "source": [
    "## Brand\n"
   ]
  },
  {
   "cell_type": "code",
   "execution_count": 8,
   "metadata": {},
   "outputs": [],
   "source": [
    "df[\"brandF\"] = np.where(df.Brand==\"Japanese (except Nissan) or Korean\",\"F\",\"other\")"
   ]
  },
  {
   "attachments": {},
   "cell_type": "markdown",
   "metadata": {},
   "source": [
    "## Power"
   ]
  },
  {
   "cell_type": "code",
   "execution_count": 9,
   "metadata": {},
   "outputs": [],
   "source": [
    "df[\"Power\"] = [\"DEF\" if p in [\"d\",\"e\",\"f\"] else \"other\" if p in [\"d\",\"e\",\"f\"] else \"GH\" for p in df.Power ]"
   ]
  },
  {
   "cell_type": "code",
   "execution_count": 10,
   "metadata": {},
   "outputs": [],
   "source": [
    "df.insert(len(df.columns)-1, 'y', df.pop('y'))"
   ]
  },
  {
   "cell_type": "code",
   "execution_count": 31,
   "metadata": {},
   "outputs": [],
   "source": [
    "tree_preprocessor = ColumnTransformer(\n",
    "    [\n",
    "        (\n",
    "            \"categorical\",\n",
    "            OrdinalEncoder(),\n",
    "            [\"CarAge\", \"DriverAge\", \"Gas\", \"Density\"],\n",
    "        ),\n",
    "        (\n",
    "            \"onehot_categorical\",\n",
    "            OneHotEncoder(),\n",
    "            [\"Power\", \"brandF\"],\n",
    "        ),\n",
    "        (\"numeric\", \"passthrough\", [\"y\"]),\n",
    "    ],\n",
    "    remainder=\"drop\",\n",
    ")"
   ]
  },
  {
   "cell_type": "code",
   "execution_count": 32,
   "metadata": {},
   "outputs": [],
   "source": [
    "df_prep = tree_preprocessor.fit_transform(df)\n",
    "X = df_prep[:,:-1]\n",
    "y = df_prep[:,-1]\n"
   ]
  },
  {
   "cell_type": "code",
   "execution_count": 24,
   "metadata": {},
   "outputs": [
    {
     "data": {
      "text/plain": [
       "0.27918505332115984"
      ]
     },
     "execution_count": 24,
     "metadata": {},
     "output_type": "execute_result"
    }
   ],
   "source": [
    "t = BaseLineTree(criterion=\"poisson\",adaptive_complexity=True).fit(X,y)\n",
    "mask = ClaimNb!=0\n",
    "mean_poisson_deviance(ClaimNb,t.predict(X)*Exposure)\n"
   ]
  },
  {
   "cell_type": "code",
   "execution_count": 36,
   "metadata": {},
   "outputs": [
    {
     "data": {
      "text/plain": [
       "0.27981742095821643"
      ]
     },
     "execution_count": 36,
     "metadata": {},
     "output_type": "execute_result"
    }
   ],
   "source": [
    "from sklearn.linear_model import PoissonRegressor\n",
    "lm = PoissonRegressor(alpha=0.001).fit(X,y)\n",
    "mask = ClaimNb!=0\n",
    "mean_poisson_deviance(ClaimNb,lm.predict(X)*Exposure)\n",
    "\n"
   ]
  },
  {
   "cell_type": "code",
   "execution_count": 14,
   "metadata": {},
   "outputs": [],
   "source": [
    "from sklearn.model_selection import train_test_split,GridSearchCV,RepeatedKFold\n",
    "EPSILON = 1.1\n",
    "\n",
    "def S1(pred1, pred2):\n",
    "    return np.std(np.log((pred2+EPSILON)/(pred1+EPSILON)))\n",
    "\n",
    "def S2(pred1, pred2):\n",
    "    return np.mean((pred1- pred2)**2)"
   ]
  },
  {
   "cell_type": "code",
   "execution_count": 17,
   "metadata": {},
   "outputs": [
    {
     "name": "stdout",
     "output_type": "stream",
     "text": [
      "================================================================================\n",
      "baseline\n",
      "orig - mse: 0.279 (1.00), stability: 0.002 (1.00), standard stability: 0.000 (1.00)\n",
      "train - mse: 0.279 (1.00), stability: 0.002 (1.00), standard stability: 0.000 (1.00)\n",
      "test - mse: 0.279 (1.00), stability: 0.002 (1.00), standard stability: 0.000 (1.00)\n",
      "================================================================================\n",
      "================================================================================\n",
      "NU\n",
      "orig - mse: 0.279 (1.00), stability: 0.001 (0.36), standard stability: 0.000 (0.14)\n",
      "train - mse: 0.279 (1.00), stability: 0.001 (0.36), standard stability: 0.000 (0.14)\n",
      "test - mse: 0.280 (1.00), stability: 0.001 (0.36), standard stability: 0.000 (0.14)\n",
      "================================================================================\n",
      "================================================================================\n",
      "TR\n",
      "orig - mse: 0.279 (1.00), stability: 0.001 (0.36), standard stability: 0.000 (0.14)\n",
      "train - mse: 0.279 (1.00), stability: 0.001 (0.36), standard stability: 0.000 (0.14)\n",
      "test - mse: 0.280 (1.00), stability: 0.001 (0.36), standard stability: 0.000 (0.14)\n",
      "================================================================================\n",
      "================================================================================\n",
      "SR\n",
      "orig - mse: 0.279 (1.00), stability: 0.001 (0.53), standard stability: 0.000 (0.28)\n",
      "train - mse: 0.279 (1.00), stability: 0.001 (0.53), standard stability: 0.000 (0.28)\n",
      "test - mse: 0.279 (1.00), stability: 0.001 (0.52), standard stability: 0.000 (0.28)\n",
      "================================================================================\n",
      "================================================================================\n",
      "ABU\n",
      "orig - mse: 1.120 (4.01), stability: 0.225 (102.87), standard stability: 0.451 (72084.18)\n",
      "train - mse: 1.121 (4.02), stability: 0.225 (102.73), standard stability: 0.451 (71935.02)\n",
      "test - mse: 1.121 (4.01), stability: 0.225 (102.83), standard stability: 0.451 (72184.25)\n",
      "================================================================================\n",
      "\n"
     ]
    }
   ],
   "source": [
    "models = {  \n",
    "            \"baseline\": BaseLineTree(),\n",
    "            \"NU\": NaiveUpdate(),\n",
    "            \"TR\":TreeReevaluation(delta=0.1),\n",
    "            \"SR\":StabilityRegularization(),\n",
    "            #\"BT\": BootstrapUpdate(),\n",
    "            \"ABU\":AbuTreeI()\n",
    "            }\n",
    "stability_all = {name:[] for name in models.keys()}\n",
    "standard_stability_all= {name:[] for name in models.keys()}\n",
    "mse_all= {name:[] for name in models.keys()}\n",
    "\n",
    "stability = {name:[] for name in models.keys()}\n",
    "standard_stability = {name:[] for name in models.keys()}\n",
    "mse = {name:[] for name in models.keys()}\n",
    "train_stability = {name:[] for name in models.keys()}\n",
    "train_standard_stability = {name:[] for name in models.keys()}\n",
    "train_mse = {name:[] for name in models.keys()}\n",
    "orig_stability = {name:[] for name in models.keys()}\n",
    "orig_standard_stability = {name:[] for name in models.keys()}\n",
    "orig_mse = {name:[] for name in models.keys()}\n",
    "\n",
    "kf = RepeatedKFold(n_splits= 5,n_repeats=10, random_state=SEED)\n",
    "for train_index, test_index in kf.split(X):\n",
    "    X_12, y_12 = X[train_index],y[train_index]\n",
    "    ClaimNb_12 = ClaimNb[train_index]\n",
    "    Exposure_12  = Exposure[train_index]\n",
    "    X_test,y_test = X[test_index],y[test_index]\n",
    "    ClaimNb_test = ClaimNb[test_index]\n",
    "    Exposure_test  = Exposure[test_index]\n",
    "    X1,X2,y1,y2,ClaimNb_1,ClaimNb_2,Exposure_1,Exposure_2 =  train_test_split(X_12, y_12,ClaimNb_12,Exposure_12, test_size=0.5, random_state=SEED)\n",
    "   \n",
    "    # initial model \n",
    "    criterion = \"poisson\"\n",
    "    models = {  \n",
    "                \"baseline\": BaseLineTree(criterion = criterion, adaptive_complexity=True),\n",
    "                \"NU\": NaiveUpdate(criterion = criterion, adaptive_complexity=True),\n",
    "            \"TR\":TreeReevaluation(criterion = criterion, adaptive_complexity=True, delta=0.1),\n",
    "            \"SR\":StabilityRegularization(criterion = criterion, adaptive_complexity=True,lmbda=0.75),\n",
    "            #\"BT\": BootstrapUpdate(criterion = criterion, adaptive_complexity=True),\n",
    "            \"ABU\":AbuTreeI(criterion = criterion, adaptive_complexity=True)\n",
    "\n",
    "            }\n",
    "    for name, model in models.items():\n",
    "        model.fit(X1,y1)\n",
    "        \n",
    "        pred1 = model.predict(X_test)\n",
    "        pred1_train = model.predict(X_12)\n",
    "        pred1_orig= model.predict(X1)\n",
    "        #print(\"before\")\n",
    "        model.update(X_12,y_12)\n",
    "        #print(\"after\")\n",
    "        pred2 = model.predict(X_test)\n",
    "        pred2_orig= model.predict(X1)\n",
    "        pred2_train =  model.predict(X_12)\n",
    "        mean_poisson_deviance(ClaimNb,t.predict(X)*Exposure)\n",
    "        orig_mse[name].append(mean_poisson_deviance(ClaimNb_1+0.00001,pred2_orig*Exposure_1+0.00001))\n",
    "        orig_stability[name].append(S1(pred1_orig*Exposure_1,pred2_orig*Exposure_1))\n",
    "        orig_standard_stability[name].append(S2(pred1_orig*Exposure_1,pred2_orig*Exposure_1))\n",
    "\n",
    "        train_mse[name].append(mean_poisson_deviance(ClaimNb_12+0.00001,pred2_train*Exposure_12+0.00001))\n",
    "        train_stability[name].append(S1(pred1_train*Exposure_12,pred2_train*Exposure_12))\n",
    "        train_standard_stability[name].append(S2(pred1_train*Exposure_12,pred2_train*Exposure_12))\n",
    "        mse[name].append(mean_poisson_deviance(ClaimNb_test+0.00001,pred2*Exposure_test+0.00001))\n",
    "        stability[name].append(S1(pred1*Exposure_test,pred2*Exposure_test))\n",
    "        standard_stability[name].append(S2(pred1*Exposure_test,pred2*Exposure_test))\n",
    "    \n",
    "for name in models.keys():\n",
    "    print(\"=\"*80)\n",
    "    print(f\"{name}\")\n",
    "    orig_mse_scale = np.mean(orig_mse[\"baseline\"]); orig_S1_scale = np.mean(orig_stability[\"baseline\"]); orig_S2_scale = np.mean(orig_standard_stability[\"baseline\"]);\n",
    "    train_mse_scale = np.mean(train_mse[\"baseline\"]); train_S1_scale = np.mean(train_stability[\"baseline\"]); train_S2_scale = np.mean(train_standard_stability[\"baseline\"]);\n",
    "    mse_scale = np.mean(mse[\"baseline\"]); S1_scale = np.mean(stability[\"baseline\"]); S2_scale = np.mean(standard_stability[\"baseline\"]);\n",
    "    \n",
    "    print(f\"orig - mse: {np.mean(orig_mse[name]):.3f} ({np.mean(orig_mse[name])/orig_mse_scale:.2f}), stability: {np.mean(orig_stability[name]):.3f} ({np.mean(orig_stability[name])/orig_S1_scale:.2f}), standard stability: {np.mean(orig_standard_stability[name]):.3f} ({np.mean(orig_standard_stability[name])/orig_S2_scale:.2f})\")\n",
    "    print(f\"train - mse: {np.mean(train_mse[name]):.3f} ({np.mean(train_mse[name])/train_mse_scale:.2f}), stability: {np.mean(train_stability[name]):.3f} ({np.mean(train_stability[name])/train_S1_scale:.2f}), standard stability: {np.mean(train_standard_stability[name]):.3f} ({np.mean(train_standard_stability[name])/train_S2_scale:.2f})\")\n",
    "    print(f\"test - mse: {np.mean(mse[name]):.3f} ({np.mean(mse[name])/mse_scale:.2f}), stability: {np.mean(stability[name]):.3f} ({np.mean(stability[name])/S1_scale:.2f}), standard stability: {np.mean(standard_stability[name]):.3f} ({np.mean(standard_stability[name])/S2_scale:.2f})\")\n",
    "    print(\"=\"*80)\n",
    "    mse_all[name] += [score/mse_scale for score in mse[name]]\n",
    "    stability_all[name] += [score/S1_scale for score in stability[name]]\n",
    "    standard_stability_all[name] += [score/S2_scale for score in standard_stability[name]]\n",
    "print()"
   ]
  },
  {
   "cell_type": "code",
   "execution_count": 22,
   "metadata": {},
   "outputs": [],
   "source": [
    "x = np.random.uniform(size=(10000,2),low=0,high=10)\n",
    "y = np.random.poisson(size = 10000, lam=x[:,0]+x[:,1] + np.clip(np.log(x[:,0]+x[:,1]),a_min=0, a_max=np.inf))"
   ]
  },
  {
   "cell_type": "code",
   "execution_count": 23,
   "metadata": {},
   "outputs": [
    {
     "data": {
      "text/plain": [
       "1.0213581223983699"
      ]
     },
     "execution_count": 23,
     "metadata": {},
     "output_type": "execute_result"
    }
   ],
   "source": [
    "t = BaseLineTree(criterion=\"poisson\",adaptive_complexity=True).fit(x,y)\n",
    "mean_poisson_deviance(y,t.predict(x))"
   ]
  },
  {
   "cell_type": "code",
   "execution_count": null,
   "metadata": {},
   "outputs": [],
   "source": []
  }
 ],
 "metadata": {
  "kernelspec": {
   "display_name": "base",
   "language": "python",
   "name": "python3"
  },
  "language_info": {
   "codemirror_mode": {
    "name": "ipython",
    "version": 3
   },
   "file_extension": ".py",
   "mimetype": "text/x-python",
   "name": "python",
   "nbconvert_exporter": "python",
   "pygments_lexer": "ipython3",
   "version": "3.9.7"
  },
  "orig_nbformat": 4
 },
 "nbformat": 4,
 "nbformat_minor": 2
}
